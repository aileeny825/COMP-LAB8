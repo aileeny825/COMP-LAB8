{
 "cells": [
  {
   "cell_type": "markdown",
   "id": "fd16b420",
   "metadata": {},
   "source": [
    "\"Hello Class\""
   ]
  },
  {
   "cell_type": "code",
   "execution_count": null,
   "id": "75b0957a",
   "metadata": {
    "vscode": {
     "languageId": "plaintext"
    }
   },
   "outputs": [],
   "source": [
    "\"Hello Class\""
   ]
  }
 ],
 "metadata": {
  "language_info": {
   "name": "python"
  }
 },
 "nbformat": 4,
 "nbformat_minor": 5
}
